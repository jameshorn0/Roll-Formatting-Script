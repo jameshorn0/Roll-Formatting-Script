{
 "cells": [
  {
   "cell_type": "code",
   "execution_count": 1,
   "id": "3c834bc7-7835-44da-945c-03847d478073",
   "metadata": {},
   "outputs": [],
   "source": [
    "import pandas as pd\n",
    "import numpy as np\n",
    "from pathlib import Path\n",
    "import datetime\n",
    "from datetime import datetime"
   ]
  },
  {
   "cell_type": "code",
   "execution_count": 2,
   "id": "34b4930f",
   "metadata": {},
   "outputs": [],
   "source": [
    "start = datetime.now()"
   ]
  },
  {
   "cell_type": "code",
   "execution_count": 3,
   "id": "832306f5-0077-4367-bf31-087b63f91276",
   "metadata": {},
   "outputs": [],
   "source": [
    "# Reads entire document, creates a dictionary of the spreadsheet\n",
    "path = \"C:/Users/j4mes/Jupyter/Lins Format/Roll Formatting Test Data.xlsx\"\n",
    "raw_data = pd.read_excel(path, index_col=0, sheet_name = None, header = None)"
   ]
  },
  {
   "cell_type": "code",
   "execution_count": 4,
   "id": "9e6c51c1",
   "metadata": {},
   "outputs": [],
   "source": [
    "filename = Path(path).name"
   ]
  },
  {
   "cell_type": "code",
   "execution_count": 5,
   "id": "ef3a10c1",
   "metadata": {},
   "outputs": [],
   "source": [
    "df_dict = {key: \"\" for key in raw_data.keys()}\n",
    "def drop_nan(keylist):\n",
    "    for key in keylist:\n",
    "        y = raw_data[key]\n",
    "        for x in range(1, len(y.columns)+1):\n",
    "            numlist = [a for a in y[x] if str(a) != \"nan\"]\n",
    "            index_value = len(y[x]) - len(numlist)\n",
    "            y[x] = np.roll(y[x], index_value)\n",
    "            new_index = [x for x in y.index]\n",
    "            new_index.reverse()\n",
    "            y.index = new_index\n",
    "            df_dict[key] = y\n",
    "\n",
    "drop_nan(raw_data.keys())"
   ]
  },
  {
   "cell_type": "code",
   "execution_count": 6,
   "id": "ad8cf82f",
   "metadata": {},
   "outputs": [],
   "source": [
    "with pd.ExcelWriter(f\"{datetime.today().strftime('%y_%m_%d')} {filename[:-5]} 1{filename[-5:]}\") as writer:\n",
    "    for key in df_dict.keys():\n",
    "        df_dict[key].to_excel(writer, sheet_name=f'{key}')"
   ]
  },
  {
   "cell_type": "code",
   "execution_count": 7,
   "id": "f8fee8d2",
   "metadata": {},
   "outputs": [
    {
     "name": "stdout",
     "output_type": "stream",
     "text": [
      "Program was run in 0:00:01.501363\n"
     ]
    }
   ],
   "source": [
    "print(f\"Program was run in {datetime.now() - start}\")"
   ]
  }
 ],
 "metadata": {
  "kernelspec": {
   "display_name": "Python 3 (ipykernel)",
   "language": "python",
   "name": "python3"
  },
  "language_info": {
   "codemirror_mode": {
    "name": "ipython",
    "version": 3
   },
   "file_extension": ".py",
   "mimetype": "text/x-python",
   "name": "python",
   "nbconvert_exporter": "python",
   "pygments_lexer": "ipython3",
   "version": "3.9.13"
  }
 },
 "nbformat": 4,
 "nbformat_minor": 5
}
